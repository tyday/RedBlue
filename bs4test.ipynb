{
 "metadata": {
  "language_info": {
   "codemirror_mode": {
    "name": "ipython",
    "version": 3
   },
   "file_extension": ".py",
   "mimetype": "text/x-python",
   "name": "python",
   "nbconvert_exporter": "python",
   "pygments_lexer": "ipython3",
   "version": "3.6.9-final"
  },
  "orig_nbformat": 2,
  "kernelspec": {
   "name": "Python 3.6.9 64-bit ('venv')",
   "display_name": "Python 3.6.9 64-bit ('venv')",
   "metadata": {
    "interpreter": {
     "hash": "1633b69b7be8dbc8bb1ffe5bb9db6ca49f046fa38db4cc0814c062917f488978"
    }
   }
  }
 },
 "nbformat": 4,
 "nbformat_minor": 2,
 "cells": [
  {
   "cell_type": "code",
   "execution_count": 4,
   "metadata": {},
   "outputs": [],
   "source": [
    "import requests, socketio\n",
    "from bs4 import BeautifulSoup\n",
    "\n",
    "page = requests.get('http://192.168.1.5:5001/seek/copper-dogfish')\n",
    "soup = BeautifulSoup(page.text, 'html.parser')"
   ]
  },
  {
   "cell_type": "code",
   "execution_count": 5,
   "metadata": {},
   "outputs": [
    {
     "output_type": "execute_result",
     "data": {
      "text/plain": [
       "<div class=\"col-12 col-sm-12 col-md-12 col-lg-8 col-xl-8\" id=\"board\" style=\" margin-top: 1%;\">\n",
       "<button class=\"btn btn-link\" id=\"1\" type=\"button\"></button>\n",
       "<button class=\"btn btn-link\" id=\"2\" type=\"button\"></button>\n",
       "<button class=\"btn btn-link\" id=\"3\" type=\"button\"></button>\n",
       "<button class=\"btn btn-link\" id=\"4\" type=\"button\"></button>\n",
       "<button class=\"btn btn-link\" id=\"5\" type=\"button\"></button>\n",
       "<button class=\"btn btn-link\" id=\"6\" type=\"button\"></button>\n",
       "<button class=\"btn btn-link\" id=\"7\" type=\"button\"></button>\n",
       "<button class=\"btn btn-link\" id=\"8\" type=\"button\"></button>\n",
       "<button class=\"btn btn-link\" id=\"9\" type=\"button\"></button>\n",
       "<button class=\"btn btn-link\" id=\"10\" type=\"button\"></button>\n",
       "<button class=\"btn btn-link\" id=\"11\" type=\"button\"></button>\n",
       "<button class=\"btn btn-link\" id=\"12\" type=\"button\"></button>\n",
       "<button class=\"btn btn-link\" id=\"13\" type=\"button\"></button>\n",
       "<button class=\"btn btn-link\" id=\"14\" type=\"button\"></button>\n",
       "<button class=\"btn btn-link\" id=\"15\" type=\"button\"></button>\n",
       "<button class=\"btn btn-link\" id=\"16\" type=\"button\"></button>\n",
       "<button class=\"btn btn-link\" id=\"17\" type=\"button\"></button>\n",
       "<button class=\"btn btn-link\" id=\"18\" type=\"button\"></button>\n",
       "<button class=\"btn btn-link\" id=\"19\" type=\"button\"></button>\n",
       "<button class=\"btn btn-link\" id=\"20\" type=\"button\"></button>\n",
       "<button class=\"btn btn-link\" id=\"21\" type=\"button\"></button>\n",
       "<button class=\"btn btn-link\" id=\"22\" type=\"button\"></button>\n",
       "<button class=\"btn btn-link\" id=\"23\" type=\"button\"></button>\n",
       "<button class=\"btn btn-link\" id=\"24\" type=\"button\"></button>\n",
       "<button class=\"btn btn-link\" id=\"25\" type=\"button\"></button>\n",
       "<button class=\"btn btn-link\" id=\"26\" type=\"button\"></button>\n",
       "<button class=\"btn btn-link\" id=\"27\" type=\"button\"></button>\n",
       "<button class=\"btn btn-link\" id=\"28\" type=\"button\"></button>\n",
       "<button class=\"btn btn-link\" id=\"29\" type=\"button\"></button>\n",
       "<button class=\"btn btn-link\" id=\"30\" type=\"button\"></button>\n",
       "<button class=\"btn btn-link\" id=\"31\" type=\"button\"></button>\n",
       "<button class=\"btn btn-link\" id=\"32\" type=\"button\"></button>\n",
       "<button class=\"btn btn-link\" id=\"33\" type=\"button\"></button>\n",
       "<button class=\"btn btn-link\" id=\"34\" type=\"button\"></button>\n",
       "<button class=\"btn btn-link\" id=\"35\" type=\"button\"></button>\n",
       "<button class=\"btn btn-link\" id=\"36\" type=\"button\"></button>\n",
       "<button class=\"btn btn-link\" id=\"37\" type=\"button\"></button>\n",
       "<button class=\"btn btn-link\" id=\"38\" type=\"button\"></button>\n",
       "<button class=\"btn btn-link\" id=\"39\" type=\"button\"></button>\n",
       "<button class=\"btn btn-link\" id=\"40\" type=\"button\"></button>\n",
       "<button class=\"btn btn-link\" id=\"41\" type=\"button\"></button>\n",
       "<button class=\"btn btn-link\" id=\"42\" type=\"button\"></button>\n",
       "<button class=\"btn btn-link\" id=\"43\" type=\"button\"></button>\n",
       "<button class=\"btn btn-link\" id=\"44\" type=\"button\"></button>\n",
       "<button class=\"btn btn-link\" id=\"45\" type=\"button\"></button>\n",
       "<button class=\"btn btn-link\" id=\"46\" type=\"button\"></button>\n",
       "<button class=\"btn btn-link\" id=\"47\" type=\"button\"></button>\n",
       "<button class=\"btn btn-link\" id=\"48\" type=\"button\"></button>\n",
       "<button class=\"btn btn-link\" id=\"49\" type=\"button\"></button>\n",
       "<button class=\"btn btn-link\" id=\"50\" type=\"button\"></button>\n",
       "<button class=\"btn btn-link\" id=\"51\" type=\"button\"></button>\n",
       "<button class=\"btn btn-link\" id=\"52\" type=\"button\"></button>\n",
       "<button class=\"btn btn-link\" id=\"53\" type=\"button\"></button>\n",
       "<button class=\"btn btn-link\" id=\"54\" type=\"button\"></button>\n",
       "<button class=\"btn btn-link\" id=\"55\" type=\"button\"></button>\n",
       "<button class=\"btn btn-link\" id=\"56\" type=\"button\"></button>\n",
       "<button class=\"btn btn-link\" id=\"57\" type=\"button\"></button>\n",
       "<button class=\"btn btn-link\" id=\"58\" type=\"button\"></button>\n",
       "<button class=\"btn btn-link\" id=\"59\" type=\"button\"></button>\n",
       "<button class=\"btn btn-link\" id=\"60\" type=\"button\"></button>\n",
       "<button class=\"btn btn-link\" id=\"61\" type=\"button\"></button>\n",
       "<button class=\"btn btn-link\" id=\"62\" type=\"button\"></button>\n",
       "<button class=\"btn btn-link\" id=\"63\" type=\"button\"></button>\n",
       "<button class=\"btn btn-link\" id=\"64\" type=\"button\"></button>\n",
       "</div>"
      ]
     },
     "metadata": {},
     "execution_count": 5
    }
   ],
   "source": [
    "soup.find(id=\"board\")"
   ]
  },
  {
   "cell_type": "code",
   "execution_count": null,
   "metadata": {},
   "outputs": [],
   "source": []
  }
 ]
}